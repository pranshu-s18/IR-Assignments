{
  "nbformat": 4,
  "nbformat_minor": 0,
  "metadata": {
    "colab": {
      "name": "3_link_manipulator_neural_network.ipynb",
      "provenance": [],
      "collapsed_sections": []
    },
    "kernelspec": {
      "display_name": "Python 3",
      "language": "python",
      "name": "python3"
    },
    "language_info": {
      "codemirror_mode": {
        "name": "ipython",
        "version": 3
      },
      "file_extension": ".py",
      "mimetype": "text/x-python",
      "name": "python",
      "nbconvert_exporter": "python",
      "pygments_lexer": "ipython3",
      "version": "3.8.5"
    },
    "accelerator": "GPU"
  },
  "cells": [
    {
      "cell_type": "code",
      "metadata": {
        "id": "aWprP5u0NymD"
      },
      "source": [
        "import pandas as pd\n",
        "import math\n",
        "import random\n",
        "import matplotlib.pyplot as plt\n",
        "from sklearn.model_selection import train_test_split\n",
        "from keras import models\n",
        "from keras import layers\n",
        "from keras import regularizers\n",
        "import numpy as np"
      ],
      "execution_count": 1,
      "outputs": []
    },
    {
      "cell_type": "code",
      "metadata": {
        "id": "c1WfsiocNz-S"
      },
      "source": [
        "l1 = l2 = l3 = 7"
      ],
      "execution_count": 2,
      "outputs": []
    },
    {
      "cell_type": "code",
      "metadata": {
        "id": "8gYDuyTjN1do"
      },
      "source": [
        "## Generating dataset for training\n",
        "\n",
        "def three_link_manipulator_dataset():\n",
        "    rows = []\n",
        "    for i in range(1, 100000):\n",
        "        theta1 = round(random.uniform(0, math.pi), 2)\n",
        "        theta2 = round(random.uniform(-math.pi, 0), 2)\n",
        "        theta3 = round(random.uniform(-math.pi/2, math.pi/2), 2)\n",
        "        \n",
        "        x = round(l1*math.cos(theta1)+l2*math.cos(theta1+theta2)+l3*math.cos(theta1+theta2+theta3), 2)\n",
        "        y = round(l1*math.sin(theta1)+l2*math.sin(theta1+theta2)+l3*math.sin(theta1+theta2+theta3), 2)\n",
        "        phi = round(math.degrees(theta1)+math.degrees(theta2)+math.degrees(theta3), 2)\n",
        "        \n",
        "        rows.append([theta1, theta2, theta3, x, y, phi])\n",
        "\n",
        "    df = pd.DataFrame(rows, columns=['theta1', 'theta2', 'theta3', 'x', 'y', 'phi'])\n",
        "    df.to_csv('three_link.csv', index=False)\n",
        "    \n",
        "three_link_manipulator_dataset()"
      ],
      "execution_count": 3,
      "outputs": []
    },
    {
      "cell_type": "code",
      "metadata": {
        "colab": {
          "base_uri": "https://localhost:8080/",
          "height": 204
        },
        "id": "3RBpYrFRN5Ir",
        "outputId": "199502a6-e6e6-4da0-c740-464fe88b3936"
      },
      "source": [
        "three_link_data = pd.read_csv('three_link.csv')\n",
        "three_link_data.head()"
      ],
      "execution_count": 4,
      "outputs": [
        {
          "output_type": "execute_result",
          "data": {
            "text/html": [
              "<div>\n",
              "<style scoped>\n",
              "    .dataframe tbody tr th:only-of-type {\n",
              "        vertical-align: middle;\n",
              "    }\n",
              "\n",
              "    .dataframe tbody tr th {\n",
              "        vertical-align: top;\n",
              "    }\n",
              "\n",
              "    .dataframe thead th {\n",
              "        text-align: right;\n",
              "    }\n",
              "</style>\n",
              "<table border=\"1\" class=\"dataframe\">\n",
              "  <thead>\n",
              "    <tr style=\"text-align: right;\">\n",
              "      <th></th>\n",
              "      <th>theta1</th>\n",
              "      <th>theta2</th>\n",
              "      <th>theta3</th>\n",
              "      <th>x</th>\n",
              "      <th>y</th>\n",
              "      <th>phi</th>\n",
              "    </tr>\n",
              "  </thead>\n",
              "  <tbody>\n",
              "    <tr>\n",
              "      <th>0</th>\n",
              "      <td>1.05</td>\n",
              "      <td>-1.99</td>\n",
              "      <td>-0.11</td>\n",
              "      <td>11.09</td>\n",
              "      <td>-5.65</td>\n",
              "      <td>-60.16</td>\n",
              "    </tr>\n",
              "    <tr>\n",
              "      <th>1</th>\n",
              "      <td>1.84</td>\n",
              "      <td>-2.42</td>\n",
              "      <td>-0.89</td>\n",
              "      <td>4.70</td>\n",
              "      <td>-4.05</td>\n",
              "      <td>-84.22</td>\n",
              "    </tr>\n",
              "    <tr>\n",
              "      <th>2</th>\n",
              "      <td>0.44</td>\n",
              "      <td>-2.41</td>\n",
              "      <td>1.34</td>\n",
              "      <td>9.27</td>\n",
              "      <td>-7.59</td>\n",
              "      <td>-36.10</td>\n",
              "    </tr>\n",
              "    <tr>\n",
              "      <th>3</th>\n",
              "      <td>2.06</td>\n",
              "      <td>-0.26</td>\n",
              "      <td>-0.96</td>\n",
              "      <td>-0.21</td>\n",
              "      <td>18.21</td>\n",
              "      <td>48.13</td>\n",
              "    </tr>\n",
              "    <tr>\n",
              "      <th>4</th>\n",
              "      <td>0.72</td>\n",
              "      <td>-0.34</td>\n",
              "      <td>-1.24</td>\n",
              "      <td>16.33</td>\n",
              "      <td>1.91</td>\n",
              "      <td>-49.27</td>\n",
              "    </tr>\n",
              "  </tbody>\n",
              "</table>\n",
              "</div>"
            ],
            "text/plain": [
              "   theta1  theta2  theta3      x      y    phi\n",
              "0    1.05   -1.99   -0.11  11.09  -5.65 -60.16\n",
              "1    1.84   -2.42   -0.89   4.70  -4.05 -84.22\n",
              "2    0.44   -2.41    1.34   9.27  -7.59 -36.10\n",
              "3    2.06   -0.26   -0.96  -0.21  18.21  48.13\n",
              "4    0.72   -0.34   -1.24  16.33   1.91 -49.27"
            ]
          },
          "metadata": {
            "tags": []
          },
          "execution_count": 4
        }
      ]
    },
    {
      "cell_type": "code",
      "metadata": {
        "colab": {
          "base_uri": "https://localhost:8080/",
          "height": 265
        },
        "id": "GtS_5sBaN9r_",
        "outputId": "16daea05-e196-4905-8748-a37751382d1b"
      },
      "source": [
        "plt.scatter(three_link_data['x'], three_link_data['y'])\n",
        "plt.show()"
      ],
      "execution_count": 5,
      "outputs": [
        {
          "output_type": "display_data",
          "data": {
            "image/png": "[encoded data removed]",
            "text/plain": [
              "<Figure size 432x288 with 1 Axes>"
            ]
          },
          "metadata": {
            "tags": [],
            "needs_background": "light"
          }
        }
      ]
    },
    {
      "cell_type": "code",
      "metadata": {
        "id": "B1gupLqyN_0Z"
      },
      "source": [
        "# Splitting training and testing dataset\n",
        "X = three_link_data[['x', 'y', 'phi']]\n",
        "y = three_link_data[['theta1', 'theta2', 'theta3']]\n",
        "train_X, test_X, train_y, test_y = train_test_split(X, y, test_size=0.1)"
      ],
      "execution_count": 6,
      "outputs": []
    },
    {
      "cell_type": "code",
      "metadata": {
        "colab": {
          "base_uri": "https://localhost:8080/"
        },
        "id": "JYAMcXxXOBrg",
        "outputId": "ca9b966f-de2e-4e75-986e-5c16472af45b"
      },
      "source": [
        "# Defining model\n",
        "\n",
        "model = models.Sequential()\n",
        "model.add(layers.Dense(units=3, input_dim=3, kernel_initializer='uniform'))\n",
        "model.add(layers.Dense(units=100, kernel_initializer='uniform', activation='relu'))\n",
        "model.add(layers.Dense(units=100, kernel_initializer='uniform', activation='relu'))\n",
        "model.add(layers.Dense(units=3, kernel_initializer = 'uniform', activation='linear'))\n",
        "\n",
        "model.summary()"
      ],
      "execution_count": 7,
      "outputs": [
        {
          "output_type": "stream",
          "text": [
            "Model: \"sequential\"\n",
            "_________________________________________________________________\n",
            "Layer (type)                 Output Shape              Param #   \n",
            "=================================================================\n",
            "dense (Dense)                (None, 3)                 12        \n",
            "_________________________________________________________________\n",
            "dense_1 (Dense)              (None, 100)               400       \n",
            "_________________________________________________________________\n",
            "dense_2 (Dense)              (None, 100)               10100     \n",
            "_________________________________________________________________\n",
            "dense_3 (Dense)              (None, 3)                 303       \n",
            "=================================================================\n",
            "Total params: 10,815\n",
            "Trainable params: 10,815\n",
            "Non-trainable params: 0\n",
            "_________________________________________________________________\n"
          ],
          "name": "stdout"
        }
      ]
    },
    {
      "cell_type": "code",
      "metadata": {
        "id": "h-VQYVlZOEa0"
      },
      "source": [
        "model.compile(optimizer='adam', loss='mean_squared_error', metrics=['accuracy'])"
      ],
      "execution_count": 8,
      "outputs": []
    },
    {
      "cell_type": "code",
      "metadata": {
        "colab": {
          "base_uri": "https://localhost:8080/"
        },
        "id": "sOjBwo9oOGf5",
        "outputId": "61a92674-9860-46f7-dd1f-b652712e4906"
      },
      "source": [
        "# Training model\n",
        "\n",
        "history = model.fit(train_X, train_y, epochs=30, validation_split=0.1, shuffle=True)"
      ],
      "execution_count": 9,
      "outputs": [
        {
          "output_type": "stream",
          "text": [
            "Epoch 1/30\n",
            "2532/2532 [==============================] - 11s 3ms/step - loss: 0.4305 - accuracy: 0.9102 - val_loss: 0.0379 - val_accuracy: 0.9661\n",
            "Epoch 2/30\n",
            "2532/2532 [==============================] - 8s 3ms/step - loss: 0.0328 - accuracy: 0.9675 - val_loss: 0.0262 - val_accuracy: 0.9672\n",
            "Epoch 3/30\n",
            "2532/2532 [==============================] - 8s 3ms/step - loss: 0.0247 - accuracy: 0.9694 - val_loss: 0.0232 - val_accuracy: 0.9736\n",
            "Epoch 4/30\n",
            "2532/2532 [==============================] - 8s 3ms/step - loss: 0.0224 - accuracy: 0.9725 - val_loss: 0.0244 - val_accuracy: 0.9637\n",
            "Epoch 5/30\n",
            "2532/2532 [==============================] - 8s 3ms/step - loss: 0.0211 - accuracy: 0.9732 - val_loss: 0.0200 - val_accuracy: 0.9800\n",
            "Epoch 6/30\n",
            "2532/2532 [==============================] - 8s 3ms/step - loss: 0.0198 - accuracy: 0.9752 - val_loss: 0.0166 - val_accuracy: 0.9706\n",
            "Epoch 7/30\n",
            "2532/2532 [==============================] - 8s 3ms/step - loss: 0.0185 - accuracy: 0.9746 - val_loss: 0.0153 - val_accuracy: 0.9724\n",
            "Epoch 8/30\n",
            "2532/2532 [==============================] - 8s 3ms/step - loss: 0.0174 - accuracy: 0.9750 - val_loss: 0.0218 - val_accuracy: 0.9784\n",
            "Epoch 9/30\n",
            "2532/2532 [==============================] - 8s 3ms/step - loss: 0.0177 - accuracy: 0.9745 - val_loss: 0.0150 - val_accuracy: 0.9776\n",
            "Epoch 10/30\n",
            "2532/2532 [==============================] - 8s 3ms/step - loss: 0.0169 - accuracy: 0.9767 - val_loss: 0.0152 - val_accuracy: 0.9798\n",
            "Epoch 11/30\n",
            "2532/2532 [==============================] - 8s 3ms/step - loss: 0.0160 - accuracy: 0.9785 - val_loss: 0.0135 - val_accuracy: 0.9816\n",
            "Epoch 12/30\n",
            "2532/2532 [==============================] - 8s 3ms/step - loss: 0.0149 - accuracy: 0.9794 - val_loss: 0.0127 - val_accuracy: 0.9769\n",
            "Epoch 13/30\n",
            "2532/2532 [==============================] - 8s 3ms/step - loss: 0.0141 - accuracy: 0.9809 - val_loss: 0.0137 - val_accuracy: 0.9803\n",
            "Epoch 14/30\n",
            "2532/2532 [==============================] - 8s 3ms/step - loss: 0.0151 - accuracy: 0.9812 - val_loss: 0.0125 - val_accuracy: 0.9804\n",
            "Epoch 15/30\n",
            "2532/2532 [==============================] - 8s 3ms/step - loss: 0.0146 - accuracy: 0.9806 - val_loss: 0.0136 - val_accuracy: 0.9857\n",
            "Epoch 16/30\n",
            "2532/2532 [==============================] - 8s 3ms/step - loss: 0.0135 - accuracy: 0.9813 - val_loss: 0.0138 - val_accuracy: 0.9822\n",
            "Epoch 17/30\n",
            "2532/2532 [==============================] - 8s 3ms/step - loss: 0.0129 - accuracy: 0.9823 - val_loss: 0.0136 - val_accuracy: 0.9796\n",
            "Epoch 18/30\n",
            "2532/2532 [==============================] - 8s 3ms/step - loss: 0.0126 - accuracy: 0.9815 - val_loss: 0.0120 - val_accuracy: 0.9823\n",
            "Epoch 19/30\n",
            "2532/2532 [==============================] - 8s 3ms/step - loss: 0.0124 - accuracy: 0.9832 - val_loss: 0.0126 - val_accuracy: 0.9816\n",
            "Epoch 20/30\n",
            "2532/2532 [==============================] - 8s 3ms/step - loss: 0.0129 - accuracy: 0.9827 - val_loss: 0.0160 - val_accuracy: 0.9774\n",
            "Epoch 21/30\n",
            "2532/2532 [==============================] - 8s 3ms/step - loss: 0.0126 - accuracy: 0.9819 - val_loss: 0.0114 - val_accuracy: 0.9872\n",
            "Epoch 22/30\n",
            "2532/2532 [==============================] - 8s 3ms/step - loss: 0.0124 - accuracy: 0.9823 - val_loss: 0.0108 - val_accuracy: 0.9848\n",
            "Epoch 23/30\n",
            "2532/2532 [==============================] - 8s 3ms/step - loss: 0.0122 - accuracy: 0.9838 - val_loss: 0.0145 - val_accuracy: 0.9830\n",
            "Epoch 24/30\n",
            "2532/2532 [==============================] - 8s 3ms/step - loss: 0.0120 - accuracy: 0.9847 - val_loss: 0.0272 - val_accuracy: 0.9810\n",
            "Epoch 25/30\n",
            "2532/2532 [==============================] - 8s 3ms/step - loss: 0.0123 - accuracy: 0.9844 - val_loss: 0.0194 - val_accuracy: 0.9822\n",
            "Epoch 26/30\n",
            "2532/2532 [==============================] - 8s 3ms/step - loss: 0.0121 - accuracy: 0.9840 - val_loss: 0.0154 - val_accuracy: 0.9813\n",
            "Epoch 27/30\n",
            "2532/2532 [==============================] - 8s 3ms/step - loss: 0.0120 - accuracy: 0.9838 - val_loss: 0.0111 - val_accuracy: 0.9837\n",
            "Epoch 28/30\n",
            "2532/2532 [==============================] - 8s 3ms/step - loss: 0.0112 - accuracy: 0.9853 - val_loss: 0.0109 - val_accuracy: 0.9864\n",
            "Epoch 29/30\n",
            "2532/2532 [==============================] - 8s 3ms/step - loss: 0.0115 - accuracy: 0.9840 - val_loss: 0.0183 - val_accuracy: 0.9791\n",
            "Epoch 30/30\n",
            "2532/2532 [==============================] - 8s 3ms/step - loss: 0.0115 - accuracy: 0.9843 - val_loss: 0.0081 - val_accuracy: 0.9853\n"
          ],
          "name": "stdout"
        }
      ]
    },
    {
      "cell_type": "code",
      "metadata": {
        "colab": {
          "base_uri": "https://localhost:8080/",
          "height": 295
        },
        "id": "0LEm7MV7OKFP",
        "outputId": "e1e244b6-0e42-4dca-8a91-320c81f71fbf"
      },
      "source": [
        "# Plotting model accuracy\n",
        "\n",
        "plt.plot(history.history['accuracy'])\n",
        "plt.plot(history.history['val_accuracy'])\n",
        "plt.title('model accuracy')\n",
        "plt.ylabel('accuracy')\n",
        "plt.xlabel('epoch')\n",
        "plt.legend(['train', 'val'], loc='upper left')\n",
        "plt.show()"
      ],
      "execution_count": 10,
      "outputs": [
        {
          "output_type": "display_data",
          "data": {
            "image/png": "[encoded data removed]",
            "text/plain": [
              "<Figure size 432x288 with 1 Axes>"
            ]
          },
          "metadata": {
            "tags": [],
            "needs_background": "light"
          }
        }
      ]
    },
    {
      "cell_type": "code",
      "metadata": {
        "colab": {
          "base_uri": "https://localhost:8080/",
          "height": 295
        },
        "id": "RZud03ziOpHo",
        "outputId": "065c188c-eace-4050-e13c-f6a8893b668f"
      },
      "source": [
        "# Plotting model loss\n",
        "\n",
        "plt.plot(history.history['loss'])\n",
        "plt.plot(history.history['val_loss'])\n",
        "plt.title('model loss')\n",
        "plt.ylabel('loss')\n",
        "plt.xlabel('epoch')\n",
        "plt.legend(['train', 'val'], loc='upper left')\n",
        "plt.show()"
      ],
      "execution_count": 11,
      "outputs": [
        {
          "output_type": "display_data",
          "data": {
            "image/png": "[encoded data removed]",
            "text/plain": [
              "<Figure size 432x288 with 1 Axes>"
            ]
          },
          "metadata": {
            "tags": [],
            "needs_background": "light"
          }
        }
      ]
    },
    {
      "cell_type": "code",
      "metadata": {
        "colab": {
          "base_uri": "https://localhost:8080/"
        },
        "id": "xCpOOHHsOrVg",
        "outputId": "31227690-941b-49a1-a9e4-8c9b33ca582e"
      },
      "source": [
        "\n",
        "# Evaluating the model on test set\n",
        "\n",
        "test_loss, test_acc = model.evaluate(test_X, test_y)\n",
        "\n",
        "print('\\nTesting Loss = ', test_loss) \n",
        "print('Testing Accuracy = ', test_acc)"
      ],
      "execution_count": 12,
      "outputs": [
        {
          "output_type": "stream",
          "text": [
            "313/313 [==============================] - 1s 2ms/step - loss: 0.0084 - accuracy: 0.9856\n",
            "\n",
            "Testing Loss =  0.008354476653039455\n",
            "Testing Accuracy =  0.9855999946594238\n"
          ],
          "name": "stdout"
        }
      ]
    },
    {
      "cell_type": "code",
      "metadata": {
        "colab": {
          "base_uri": "https://localhost:8080/"
        },
        "id": "LBWguSt0OvU6",
        "outputId": "86b041cb-7980-43f6-c254-15d2f7c47dfb"
      },
      "source": [
        "!pip install -q ann_visualizer\n",
        "\n",
        "from ann_visualizer.visualize import ann_viz;\n",
        "ann_viz(model, title=\"3-link manipulator neural network\")"
      ],
      "execution_count": 13,
      "outputs": [
        {
          "output_type": "stream",
          "text": [
            "  Building wheel for ann-visualizer (setup.py) ... \u001b[?25l\u001b[?25hdone\n"
          ],
          "name": "stdout"
        }
      ]
    },
    {
      "cell_type": "code",
      "metadata": {
        "id": "vgqCfwYrOxxJ"
      },
      "source": [
        "def iiitm_dataset():\n",
        "    rows = []\n",
        "\n",
        "    # for I\n",
        "    arr = np.linspace(5, 7, 100)\n",
        "    for y in arr:\n",
        "        x = 6\n",
        "        theta = math.degrees(math.atan(y/x))\n",
        "        rows.append([x, y, theta])\n",
        "\n",
        "    # for I\n",
        "    arr = np.linspace(5, 7, 100)\n",
        "    for y in arr:\n",
        "        x = 7\n",
        "        theta = math.degrees(math.atan(y/x))\n",
        "        rows.append([x, y, theta])\n",
        "\n",
        "    # for I\n",
        "    arr = np.linspace(5, 7, 100)\n",
        "    for y in arr:\n",
        "        x = 8\n",
        "        theta = math.degrees(math.atan(y/x))\n",
        "        rows.append([x, y, theta])\n",
        "\n",
        "    # for T\n",
        "    arr = np.linspace(8.5, 10.5, 100)\n",
        "    for x in arr:\n",
        "        y = 7\n",
        "        theta = math.degrees(math.atan(y/x))\n",
        "        rows.append([x, y, theta])\n",
        "\n",
        "    arr = np.linspace(5, 7, 100)\n",
        "    for y in arr:\n",
        "        x = 9.5\n",
        "        theta = math.degrees(math.atan(y/x))\n",
        "        rows.append([x, y, theta])\n",
        "\n",
        "    # for M\n",
        "    arr = np.linspace(5, 7, 100)\n",
        "    for y in arr:\n",
        "        x = 11\n",
        "        theta = math.degrees(math.atan(y/x))\n",
        "        rows.append([x, y, theta])\n",
        "\n",
        "    arr = np.linspace(5, 7, 100)\n",
        "    for y in arr:\n",
        "        x = ((-y)+29)/2\n",
        "        theta = math.degrees(math.atan(y/x))\n",
        "        rows.append([x, y, theta])\n",
        "\n",
        "    arr = np.linspace(5, 7, 100)\n",
        "    for y in arr:\n",
        "        x = ((y)+19)/2\n",
        "        theta = math.degrees(math.atan(y/x))\n",
        "        rows.append([x, y, theta])\n",
        "\n",
        "    arr = np.linspace(5, 7, 100)\n",
        "    for y in arr:\n",
        "        x = 13\n",
        "        theta = math.degrees(math.atan(y/x))\n",
        "        rows.append([x, y, theta])\n",
        "\n",
        "    df = pd.DataFrame(rows, columns=['x', 'y', 'theta'])\n",
        "    df.to_csv('iiitm.csv', index=False)\n",
        "    \n",
        "iiitm_dataset()"
      ],
      "execution_count": 14,
      "outputs": []
    },
    {
      "cell_type": "code",
      "metadata": {
        "id": "VnrWe37cO34L"
      },
      "source": [
        "def three_link_forward_kinematics(theta1, theta2, theta3):\n",
        "    x = (np.cos(theta1)*l1)+(np.cos(theta1+theta2)*l2)+(np.cos(theta1+theta2+theta3)*l3)\n",
        "    y = (np.sin(theta1)*l1)+(np.sin(theta1+theta2)*l2)+(np.sin(theta1+theta2+theta3)*l3)\n",
        "\n",
        "    return x, y"
      ],
      "execution_count": 15,
      "outputs": []
    },
    {
      "cell_type": "code",
      "metadata": {
        "id": "4ZBboPV-O6wW"
      },
      "source": [
        "iiitm_data = pd.read_csv('iiitm.csv')\n",
        "iiitm_predictions = model.predict(iiitm_data.values)\n",
        "x_predictions, y_predictions = three_link_forward_kinematics(iiitm_predictions[:,0], iiitm_predictions[:,1], iiitm_predictions[:,2])"
      ],
      "execution_count": 16,
      "outputs": []
    },
    {
      "cell_type": "code",
      "metadata": {
        "colab": {
          "base_uri": "https://localhost:8080/",
          "height": 761
        },
        "id": "cEbxFD3ZO8n-",
        "outputId": "592acad8-52fd-43a6-f3d9-322c617116b3"
      },
      "source": [
        "# Original\n",
        "plt.plot(iiitm_data['x'], iiitm_data['y'], 'go')\n",
        "plt.show()\n",
        "\n",
        "# Predicted\n",
        "plt.plot(x_predictions, y_predictions, 'bo')\n",
        "plt.show()\n",
        "\n",
        "# Original and Predicted\n",
        "plt.plot(iiitm_data['x'], iiitm_data['y'], 'go')\n",
        "plt.plot(x_predictions, y_predictions, 'bo')\n",
        "plt.show()"
      ],
      "execution_count": 17,
      "outputs": [
        {
          "output_type": "display_data",
          "data": {
            "image/png": "[encoded data removed]",
            "text/plain": [
              "<Figure size 432x288 with 1 Axes>"
            ]
          },
          "metadata": {
            "tags": [],
            "needs_background": "light"
          }
        },
        {
          "output_type": "display_data",
          "data": {
            "image/png": "[encoded data removed]",
            "text/plain": [
              "<Figure size 432x288 with 1 Axes>"
            ]
          },
          "metadata": {
            "tags": [],
            "needs_background": "light"
          }
        },
        {
          "output_type": "display_data",
          "data": {
            "image/png": "[encoded data removed]",
            "text/plain": [
              "<Figure size 432x288 with 1 Axes>"
            ]
          },
          "metadata": {
            "tags": [],
            "needs_background": "light"
          }
        }
      ]
    },
    {
      "cell_type": "code",
      "metadata": {
        "id": "u805xfz_PAzt"
      },
      "source": [
        ""
      ],
      "execution_count": 17,
      "outputs": []
    }
  ]
}